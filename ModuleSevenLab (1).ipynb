{
 "cells": [
  {
   "cell_type": "markdown",
   "metadata": {},
   "source": [
    "# Module 7 Lab\n",
    "## Working with Files Practice\n",
    "\n",
    "-----\n",
    "\n",
    "### Student will be able to\n",
    " \n",
    "- Import files into Jupyter Notebooks  \n",
    "- Open and **`.read()`** local files in memory   \n",
    "- **`.read()`** a specific number of characters  \n",
    "- Use **`.readlines()`** to read data from file as a **list** of lines  \n",
    "- Use **`.readlines()`** to read data from file as a **list** of lines   \n",
    "- Use **`.readline()`** to read data from file a line at a time   \n",
    "- Use **`.strip()`** to remove new line characters  \n",
    "- `.write()` data to a new local file  \n",
    "- Use **`.seek()`** to set file read or write location  \n",
    "- Use file append mode  "
   ]
  },
  {
   "cell_type": "markdown",
   "metadata": {},
   "source": [
    "## Task 1: Order the Rainbow\n",
    "#### Open the rainbow file, then put in a list and print in alphabetical order\n",
    "Download and open the file  \n",
    "- Download list of rainbow colors, as `rainbow.txt`, using `curl` \n",
    "  https://raw.githubusercontent.com/MicrosoftLearning/intropython/master/rainbow. \n",
    "- Open rainbow.txt in read mode using a variable: rainbow_file.\n",
    " "
   ]
  },
  {
   "cell_type": "code",
   "execution_count": 1,
   "metadata": {},
   "outputs": [
    {
     "name": "stdout",
     "output_type": "stream",
     "text": [
      "  % Total    % Received % Xferd  Average Speed   Time    Time     Time  Current\n",
      "                                 Dload  Upload   Total   Spent    Left  Speed\n",
      "100    43  100    43    0     0    373      0 --:--:-- --:--:-- --:--:--   377\n"
     ]
    }
   ],
   "source": [
    "# [ ] import https://raw.githubusercontent.com/MicrosoftLearning/intropython/master/rainbow as rainbow.txt\n",
    "\n",
    "!curl https://raw.githubusercontent.com/MicrosoftLearning/intropython/master/rainbow -o rainbow.txt"
   ]
  },
  {
   "cell_type": "markdown",
   "metadata": {},
   "source": [
    "\n",
    "- Read rainbow_file as a list variable: rainbow_colors using `.readlines()`.    \n"
   ]
  },
  {
   "cell_type": "code",
   "execution_count": 3,
   "metadata": {},
   "outputs": [],
   "source": [
    "# [ ]  Open rainbow.txt in read mode & read as list with .readlines()\n",
    "\n",
    "\n",
    "rainbow_file = open('rainbow.txt', 'r') # Opens file in read me\n",
    "rainbow_colors = rainbow_file.readlines() # Seperates string into list"
   ]
  },
  {
   "cell_type": "markdown",
   "metadata": {},
   "source": [
    "1. Sort the rainbow_lines list alphabetically.\n",
    "2. Print each line of rainbow_lines by iterating the sorted list.\n",
    "3. Close rainbow_file."
   ]
  },
  {
   "cell_type": "code",
   "execution_count": 4,
   "metadata": {},
   "outputs": [
    {
     "name": "stdout",
     "output_type": "stream",
     "text": [
      "blue\n",
      "\n",
      "green\n",
      "\n",
      "indigo\n",
      "\n",
      "orange\n",
      "\n",
      "red\n",
      "\n",
      "violet\n",
      "\n",
      "yellow\n",
      "\n"
     ]
    }
   ],
   "source": [
    "# [ ] sort rainbow_colors list, iterate the list to print each color\n",
    "\n",
    "rainbow_colors.sort() # Sorts list by alpha\n",
    "\n",
    "for item in rainbow_colors: # For each list item\n",
    "    print(item) # Prints item"
   ]
  },
  {
   "cell_type": "markdown",
   "metadata": {},
   "source": [
    "## Task 2: The Weather\n",
    "Create a program that reads from a file to display city name and average temperature in Celsius. \n",
    "\n",
    "- Use `!curl` to download https://raw.githubusercontent.com/MicrosoftLearning/intropython/master/world_temp_mean.csv as `mean_temp.txt`.  \n",
    "  \n"
   ]
  },
  {
   "cell_type": "code",
   "execution_count": 1,
   "metadata": {},
   "outputs": [
    {
     "name": "stdout",
     "output_type": "stream",
     "text": [
      "  % Total    % Received % Xferd  Average Speed   Time    Time     Time  Current\n",
      "                                 Dload  Upload   Total   Spent    Left  Speed\n",
      "100   222  100   222    0     0   2026      0 --:--:-- --:--:-- --:--:--  2036\n"
     ]
    }
   ],
   "source": [
    "# [ ] The Weather: import world_mean_team.csv as mean_temp.txt\n",
    "\n",
    "!curl https://raw.githubusercontent.com/MicrosoftLearning/intropython/master/world_temp_mean.csv -o mean_temp.txt # Pulls file from server"
   ]
  },
  {
   "cell_type": "markdown",
   "metadata": {},
   "source": [
    "1. Open the file in `'r'` mode.  \n",
    "2. Read the first line of text into a variable called: `  headings` and `print()`.    \n",
    "3. Convert `headings` to a list using **`.split(',')`** which splits on each comma, `print()` the list.  "
   ]
  },
  {
   "cell_type": "code",
   "execution_count": 47,
   "metadata": {},
   "outputs": [
    {
     "name": "stdout",
     "output_type": "stream",
     "text": [
      "city,country,month ave: highest high,month ave: lowest low\n",
      "\n"
     ]
    }
   ],
   "source": [
    "# [ ] The Weather: open file, read/print first line, convert line to list (splitting on comma)\n",
    "\n",
    "mean_temp = open('mean_temp.txt', 'r') # Opens file \n",
    "headings = mean_temp.readline() # Seperates string into list\n",
    "print(headings)"
   ]
  },
  {
   "cell_type": "markdown",
   "metadata": {},
   "source": [
    "#### Use a while loop to read the remaining lines from the file  \n",
    "  1. Assign remainging lines to a **`city_temp`** variable.  \n",
    "  2. Convert the city_temp to a list using **`.split(',')`** for each **`.readline()`** in the loop.  \n",
    "  3. Print each city &amp; the highest monthly average temperature.   \n",
    "  4. Close mean_temps.\n",
    "\n",
    "&gt;Tips &amp; Hints:   \n",
    "- Use the print output of **`headings`** to determine the city_temp indexes to use.  \n",
    "- \"month ave: highest high\" for Bejing is 30.9 Celsius.\n",
    "- Convert `city_temp` to lists with `.split(',')`.\n"
   ]
  },
  {
   "cell_type": "code",
   "execution_count": 48,
   "metadata": {},
   "outputs": [
    {
     "name": "stdout",
     "output_type": "stream",
     "text": [
      "Beijing has a month record high of 30.9\n",
      "Cairo has a month record high of 34.7\n",
      "London has a month record high of 23.5\n",
      "Nairobi has a month record high of 26.3\n",
      "New York City has a month record high of 28.9\n",
      "Sydney has a month record high of 26.5\n",
      "Tokyo has a month record high of 30.8\n"
     ]
    }
   ],
   "source": [
    "# [ ] The Weather: use while loop to print city and highest monthly average temp in celsius\n",
    "# *MUST RUN ABOVE BLOCK FIRST*\n",
    "\n",
    "mean_temp_line = mean_temp.readline().split(',') # Splits list (from readline()) based on commas\n",
    "\n",
    "while mean_temp_line != ['']: # While contents in string\n",
    "    print(mean_temp_line[0], \"has a month record high of\", mean_temp_line[2]) # Displays city and record high to user\n",
    "    mean_temp_line = mean_temp.readline().split(',') # Splits list (from readline()) based on commas"
   ]
  },
  {
   "cell_type": "markdown",
   "metadata": {},
   "source": [
    "## Task 3: Random pi  guessing\n",
    "Create random appearing numbers by reading digits of pi.\n",
    "*Note: Numbers only \"appear\" random.*\n",
    "\n",
    "- Download https://raw.githubusercontent.com/MicrosoftLearning/intropython/master/digits_of_pi as pi.txt."
   ]
  },
  {
   "cell_type": "code",
   "execution_count": null,
   "metadata": {},
   "outputs": [],
   "source": [
    "# [ ] use curl to download https://raw.githubusercontent.com/MicrosoftLearning/intropython/master/digits_of_pi as pi.txt\n",
    "\n",
    "!curl https://raw.githubusercontent.com/MicrosoftLearning/intropython/master/digits_of_pi -o pi.txt # Gets file from server"
   ]
  },
  {
   "cell_type": "markdown",
   "metadata": {},
   "source": [
    "#### Set up the project files and intitial values  \n",
    "1. Open pi.tx in read mode, the file has a single line of text \"3.14....\".  \n",
    "2. Get user name as input and say \"hi\".\n",
    "3. Use the length of `name` for variable called `seed`.\n",
    "4. Use `.seek()` with the value of `seed` to set the initial pointer location reading the file.\n",
    "5. Create a variable `digit` and assign it the value of reading one character from the file.\n",
    "6. Get `guess` variable value from users `input`  - \"enter a single digit guess or \"q\" to quit\".\n",
    "7. Initialize `correct` and `wrong` counter variables to **`0`**  (zero)."
   ]
  },
  {
   "cell_type": "code",
   "execution_count": null,
   "metadata": {},
   "outputs": [],
   "source": [
    "# [ ] Set up the project files and initial values\n",
    "\n",
    "pi_text = open('pi.txt', 'r')"
   ]
  },
  {
   "cell_type": "markdown",
   "metadata": {},
   "source": [
    "#### Create a while loop that tests that `guess` is a *digit* string\n",
    "Then in the loop:\n",
    "1. If `digit` ( read from pi file) is \"**.**\" read the next character for digit.\n",
    "2. Else if `digit` is \"\\n\" increment `seed` and use `seed` to set the pointer uing .`seek()`.\n",
    "3. Else see if `guess` is equal to `digit`.\n",
    "  a. If `guess` equals `digit`: print \"correct\" and increment the varible named `correct`.\n",
    "  b. If `guess` not equal `digit`: print \"incorrect\" and increment the variable named `wrong`.\n",
    "  \n",
    "**End the while loop** when user enters any non-digit(s) for `guess`, like \"q\".  \n",
    "- Print `correct` and `wrong` values within a message to the user.\n",
    "- Close the pi file."
   ]
  },
  {
   "cell_type": "code",
   "execution_count": null,
   "metadata": {},
   "outputs": [],
   "source": []
  },
  {
   "cell_type": "markdown",
   "metadata": {},
   "source": [
    "[Terms of use](http://go.microsoft.com/fwlink/?LinkID=206977)   [Privacy &amp; cookies](https://go.microsoft.com/fwlink/?LinkId=521839)   © 2017 Microsoft"
   ]
  }
 ],
 "metadata": {
  "anaconda-cloud": {},
  "kernelspec": {
   "display_name": "Python 3 (ipykernel)",
   "language": "python",
   "name": "python3"
  },
  "language_info": {
   "codemirror_mode": {
    "name": "ipython",
    "version": 3
   },
   "file_extension": ".py",
   "mimetype": "text/x-python",
   "name": "python",
   "nbconvert_exporter": "python",
   "pygments_lexer": "ipython3",
   "version": "3.9.6"
  }
 },
 "nbformat": 4,
 "nbformat_minor": 4
}
